{
  "nbformat": 4,
  "nbformat_minor": 0,
  "metadata": {
    "colab": {
      "provenance": [],
      "authorship_tag": "ABX9TyM/yCpIGAyJOmQW13leK/Sq",
      "include_colab_link": true
    },
    "kernelspec": {
      "name": "python3",
      "display_name": "Python 3"
    },
    "language_info": {
      "name": "python"
    }
  },
  "cells": [
    {
      "cell_type": "markdown",
      "metadata": {
        "id": "view-in-github",
        "colab_type": "text"
      },
      "source": [
        "<a href=\"https://colab.research.google.com/github/RodolfoBorbon/WebApplicationDevelopment_A1_301288986/blob/master/Lab04_301288986.ipynb\" target=\"_parent\"><img src=\"https://colab.research.google.com/assets/colab-badge.svg\" alt=\"Open In Colab\"/></a>"
      ]
    },
    {
      "cell_type": "markdown",
      "source": [
        "Name: Rodolfo Borbon\n",
        "\n",
        "Student number: 301288986\n",
        "\n",
        "Course: COMP216-401\n",
        "\n",
        "Date: June 10, 2023"
      ],
      "metadata": {
        "id": "TrSyT2CVEJGF"
      }
    },
    {
      "cell_type": "code",
      "execution_count": 6,
      "metadata": {
        "colab": {
          "base_uri": "https://localhost:8080/"
        },
        "id": "DwpnJQkSEHQF",
        "outputId": "037dab73-3376-414a-b16a-ee1864abefb9"
      },
      "outputs": [
        {
          "output_type": "stream",
          "name": "stdout",
          "text": [
            "Task 1 completed\n",
            "Task 2 completed\n",
            "Task 3 completed\n",
            "Task 4 completed\n",
            "Task 5 completed\n",
            "Task 6 completed\n",
            "Task 7 completed\n",
            "Task 8 completed\n",
            "Task 9 completed\n",
            "Task 10 completed\n",
            "The second function took 190.88 seconds\n",
            "\n",
            "\n",
            "Task 8 completed\n",
            "Task 9 completed\n",
            "Task 4 completed\n",
            "Task 6 completed\n",
            "Task 1 completed\n",
            "Task 2 completed\n",
            "Task 10 completed\n",
            "Task 7 completed\n",
            "Task 5 completed\n",
            "Task 3 completed\n",
            "Threaded execution took 20.39 seconds\n"
          ]
        }
      ],
      "source": [
        "import threading\n",
        "import time\n",
        "\n",
        "def longTaskExecution(name):\n",
        "  for i in range(100000):\n",
        "    time.sleep(0.0001)\n",
        "  print(f\"{name} completed\")\n",
        "\n",
        "def sequentialExecution(times):\n",
        "  initialTime = time.time()\n",
        "  for i in range(times):\n",
        "    longTaskExecution(f\"Task {i+1}\")\n",
        "  endTime = time.time()\n",
        "  print(f\"The second function took {endTime - initialTime:.2f} seconds\")\n",
        "\n",
        "def threadedExecution(times):\n",
        "  threads = []\n",
        "  initialTime = time.time()\n",
        "  for i in range(times):\n",
        "    thread = threading.Thread(target = longTaskExecution, args=(f\"Task {i+1}\",))\n",
        "    thread.start()\n",
        "    threads.append(thread)\n",
        "  for thread in threads:\n",
        "    thread.join()\n",
        "  endTime = time.time()\n",
        "  print(f\"Threaded execution took {endTime - initialTime:.2f} seconds\")\n",
        "\n",
        "sequentialExecution(10)\n",
        "print()\n",
        "print()\n",
        "threadedExecution(10)\n",
        "\n",
        "\n",
        "\n",
        "  "
      ]
    }
  ]
}